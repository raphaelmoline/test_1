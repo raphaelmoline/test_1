{
 "cells": [
  {
   "cell_type": "code",
   "execution_count": 36,
   "metadata": {},
   "outputs": [],
   "source": [
    "import pandas as pd\n",
    "import random\n",
    "import datetime\n",
    "\n",
    "def get_date():\n",
    "    # Get today's date\n",
    "    today = pd.Timestamp.today().normalize()\n",
    "\n",
    "    # Get a date that is either yesterday or the day before yesterday, but not on a weekend\n",
    "    for i in range(2, 7):\n",
    "        date = today - pd.DateOffset(days=i)\n",
    "        if date.dayofweek < 5:  # If the date is not on a weekend\n",
    "            return date\n",
    "\n",
    "def get_start_time(date):\n",
    "    # Create a start time\n",
    "    return datetime.datetime.combine(date, datetime.time(random.randint(20, 23), random.randint(0, 59))) if random.random() < 0.5 else datetime.datetime.combine(date + pd.DateOffset(days=1), datetime.time(random.randint(0, 1), random.randint(0, 59)))\n",
    "\n",
    "def get_cutoff_time(date):\n",
    "    # Create a cutoff time\n",
    "    return datetime.datetime.combine(date + pd.DateOffset(days=1), datetime.time(random.randint(0, 5), 0))\n",
    "\n",
    "def get_end_time(date):\n",
    "    # Create an end time\n",
    "    return datetime.datetime.combine(date + pd.DateOffset(days=1), datetime.time(random.randint(0, 7), random.randint(0, 59)))"
   ]
  },
  {
   "cell_type": "code",
   "execution_count": 37,
   "metadata": {},
   "outputs": [],
   "source": [
    "def generate_data():\n",
    "    data = []\n",
    "\n",
    "    for _ in range(20):\n",
    "        date = get_date()\n",
    "        start_time = get_start_time(date)\n",
    "        cutoff_time = get_cutoff_time(date)\n",
    "        end_time = get_end_time(date)\n",
    "\n",
    "        # Append the data to the list\n",
    "        data.append([date, start_time, cutoff_time, end_time])\n",
    "\n",
    "    # Create the DataFrame\n",
    "    df = pd.DataFrame(data, columns=['Date', 'Start Time', 'Cutoff Time', 'End Time'])\n",
    "\n",
    "    # Create the 'Buffer' column\n",
    "    df['Buffer'] = (df['Cutoff Time'] - df['End Time']).apply(lambda x: x.total_seconds() / 3600)\n",
    "\n",
    "    # Print the DataFrame\n",
    "    print(df)\n"
   ]
  },
  {
   "cell_type": "code",
   "execution_count": 38,
   "metadata": {},
   "outputs": [
    {
     "name": "stdout",
     "output_type": "stream",
     "text": [
      "         Date          Start Time         Cutoff Time            End Time  \\\n",
      "0  2023-12-15 2023-12-15 23:49:00 2023-12-16 04:00:00 2023-12-16 00:51:00   \n",
      "1  2023-12-15 2023-12-15 23:08:00 2023-12-16 04:00:00 2023-12-16 00:53:00   \n",
      "2  2023-12-15 2023-12-16 01:39:00 2023-12-16 01:00:00 2023-12-16 04:29:00   \n",
      "3  2023-12-15 2023-12-15 21:54:00 2023-12-16 00:00:00 2023-12-16 01:44:00   \n",
      "4  2023-12-15 2023-12-15 20:21:00 2023-12-16 01:00:00 2023-12-16 06:34:00   \n",
      "5  2023-12-15 2023-12-16 00:17:00 2023-12-16 03:00:00 2023-12-16 06:15:00   \n",
      "6  2023-12-15 2023-12-16 00:59:00 2023-12-16 03:00:00 2023-12-16 04:59:00   \n",
      "7  2023-12-15 2023-12-15 23:55:00 2023-12-16 02:00:00 2023-12-16 01:00:00   \n",
      "8  2023-12-15 2023-12-15 20:52:00 2023-12-16 03:00:00 2023-12-16 06:27:00   \n",
      "9  2023-12-15 2023-12-16 00:16:00 2023-12-16 03:00:00 2023-12-16 02:37:00   \n",
      "10 2023-12-15 2023-12-16 01:49:00 2023-12-16 01:00:00 2023-12-16 07:10:00   \n",
      "11 2023-12-15 2023-12-16 01:24:00 2023-12-16 02:00:00 2023-12-16 07:21:00   \n",
      "12 2023-12-15 2023-12-16 00:17:00 2023-12-16 01:00:00 2023-12-16 00:06:00   \n",
      "13 2023-12-15 2023-12-16 01:00:00 2023-12-16 03:00:00 2023-12-16 04:04:00   \n",
      "14 2023-12-15 2023-12-15 22:14:00 2023-12-16 04:00:00 2023-12-16 04:22:00   \n",
      "15 2023-12-15 2023-12-15 23:41:00 2023-12-16 00:00:00 2023-12-16 03:50:00   \n",
      "16 2023-12-15 2023-12-16 01:11:00 2023-12-16 04:00:00 2023-12-16 03:43:00   \n",
      "17 2023-12-15 2023-12-16 00:17:00 2023-12-16 04:00:00 2023-12-16 04:48:00   \n",
      "18 2023-12-15 2023-12-16 00:02:00 2023-12-16 04:00:00 2023-12-16 03:56:00   \n",
      "19 2023-12-15 2023-12-16 01:33:00 2023-12-16 00:00:00 2023-12-16 06:06:00   \n",
      "\n",
      "      Buffer  \n",
      "0   3.150000  \n",
      "1   3.116667  \n",
      "2  -3.483333  \n",
      "3  -1.733333  \n",
      "4  -5.566667  \n",
      "5  -3.250000  \n",
      "6  -1.983333  \n",
      "7   1.000000  \n",
      "8  -3.450000  \n",
      "9   0.383333  \n",
      "10 -6.166667  \n",
      "11 -5.350000  \n",
      "12  0.900000  \n",
      "13 -1.066667  \n",
      "14 -0.366667  \n",
      "15 -3.833333  \n",
      "16  0.283333  \n",
      "17 -0.800000  \n",
      "18  0.066667  \n",
      "19 -6.100000  \n"
     ]
    }
   ],
   "source": [
    "\n",
    "generate_data()"
   ]
  }
 ],
 "metadata": {
  "kernelspec": {
   "display_name": "Python 3",
   "language": "python",
   "name": "python3"
  },
  "language_info": {
   "codemirror_mode": {
    "name": "ipython",
    "version": 3
   },
   "file_extension": ".py",
   "mimetype": "text/x-python",
   "name": "python",
   "nbconvert_exporter": "python",
   "pygments_lexer": "ipython3",
   "version": "3.8.5"
  }
 },
 "nbformat": 4,
 "nbformat_minor": 2
}
