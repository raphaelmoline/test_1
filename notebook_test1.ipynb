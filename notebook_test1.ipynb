{
 "cells": [
  {
   "cell_type": "code",
   "execution_count": 4,
   "metadata": {},
   "outputs": [
    {
     "name": "stdout",
     "output_type": "stream",
     "text": [
      "         Date          Start Time         Cutoff Time            End Time\n",
      "0  2023-12-15 2023-12-16 00:56:00 2023-12-16 02:00:00 2023-12-16 12:30:00\n",
      "1  2023-12-15 2023-12-16 00:08:00 2023-12-16 03:00:00 2023-12-16 07:32:00\n",
      "2  2023-12-15 2023-12-16 01:17:00 2023-12-16 05:00:00 2023-12-16 18:30:00\n",
      "3  2023-12-15 2023-12-16 00:44:00 2023-12-16 00:00:00 2023-12-16 16:50:00\n",
      "4  2023-12-15 2023-12-15 22:48:00 2023-12-16 04:00:00 2023-12-16 21:32:00\n",
      "5  2023-12-15 2023-12-15 21:57:00 2023-12-16 00:00:00 2023-12-16 04:58:00\n",
      "6  2023-12-15 2023-12-16 00:53:00 2023-12-16 04:00:00 2023-12-16 20:57:00\n",
      "7  2023-12-15 2023-12-16 01:59:00 2023-12-16 03:00:00 2023-12-16 15:26:00\n",
      "8  2023-12-15 2023-12-15 21:21:00 2023-12-16 05:00:00 2023-12-16 19:23:00\n",
      "9  2023-12-15 2023-12-15 22:27:00 2023-12-16 05:00:00 2023-12-16 22:40:00\n",
      "10 2023-12-15 2023-12-16 01:39:00 2023-12-16 00:00:00 2023-12-16 03:13:00\n",
      "11 2023-12-15 2023-12-15 22:08:00 2023-12-16 01:00:00 2023-12-16 08:01:00\n",
      "12 2023-12-15 2023-12-15 22:51:00 2023-12-16 04:00:00 2023-12-16 23:08:00\n",
      "13 2023-12-15 2023-12-15 20:25:00 2023-12-16 01:00:00 2023-12-16 08:03:00\n",
      "14 2023-12-15 2023-12-15 22:52:00 2023-12-16 00:00:00 2023-12-16 10:22:00\n",
      "15 2023-12-15 2023-12-15 20:44:00 2023-12-16 00:00:00 2023-12-16 19:42:00\n",
      "16 2023-12-15 2023-12-16 00:34:00 2023-12-16 03:00:00 2023-12-16 18:45:00\n",
      "17 2023-12-15 2023-12-16 01:55:00 2023-12-16 05:00:00 2023-12-16 15:45:00\n",
      "18 2023-12-15 2023-12-15 21:51:00 2023-12-16 03:00:00 2023-12-16 17:59:00\n",
      "19 2023-12-15 2023-12-15 23:23:00 2023-12-16 01:00:00 2023-12-16 05:48:00\n"
     ]
    }
   ],
   "source": [
    "import pandas as pd\n",
    "import random\n",
    "import datetime\n",
    "\n",
    "def get_date():\n",
    "    # Get today's date\n",
    "    today = pd.Timestamp.today().normalize()\n",
    "\n",
    "    # Get a date that is either yesterday or the day before yesterday, but not on a weekend\n",
    "    for i in range(2, 7):\n",
    "        date = today - pd.DateOffset(days=i)\n",
    "        if date.dayofweek < 5:  # If the date is not on a weekend\n",
    "            return date\n",
    "\n",
    "def get_start_time(date):\n",
    "    # Create a start time\n",
    "    return datetime.datetime.combine(date, datetime.time(random.randint(20, 23), random.randint(0, 59))) if random.random() < 0.5 else datetime.datetime.combine(date + pd.DateOffset(days=1), datetime.time(random.randint(0, 1), random.randint(0, 59)))\n",
    "\n",
    "def get_cutoff_time(date):\n",
    "    # Create a cutoff time\n",
    "    return datetime.datetime.combine(date + pd.DateOffset(days=1), datetime.time(random.randint(0, 5), 0))\n",
    "\n",
    "def get_end_time(cutoff_time):\n",
    "    # Create an end time\n",
    "    return datetime.datetime.combine(cutoff_time.date(), datetime.time(random.randint(cutoff_time.hour + 1, 23), random.randint(0, 59)))\n",
    "\n",
    "def generate_data():\n",
    "    data = []\n",
    "\n",
    "    for _ in range(20):\n",
    "        date = get_date()\n",
    "        start_time = get_start_time(date)\n",
    "        cutoff_time = get_cutoff_time(date)\n",
    "        end_time = get_end_time(cutoff_time)\n",
    "\n",
    "        # Append the data to the list\n",
    "        data.append([date, start_time, cutoff_time, end_time])\n",
    "\n",
    "    # Create the DataFrame\n",
    "    df = pd.DataFrame(data, columns=['Date', 'Start Time', 'Cutoff Time', 'End Time'])\n",
    "\n",
    "    # Print the DataFrame\n",
    "    print(df)\n",
    "\n",
    "generate_data()"
   ]
  }
 ],
 "metadata": {
  "kernelspec": {
   "display_name": "Python 3",
   "language": "python",
   "name": "python3"
  },
  "language_info": {
   "codemirror_mode": {
    "name": "ipython",
    "version": 3
   },
   "file_extension": ".py",
   "mimetype": "text/x-python",
   "name": "python",
   "nbconvert_exporter": "python",
   "pygments_lexer": "ipython3",
   "version": "3.8.5"
  }
 },
 "nbformat": 4,
 "nbformat_minor": 2
}
